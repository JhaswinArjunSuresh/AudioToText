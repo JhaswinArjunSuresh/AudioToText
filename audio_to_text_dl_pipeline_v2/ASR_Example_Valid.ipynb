{
 "cells": [
  {
   "cell_type": "markdown",
   "id": "4748ff80",
   "metadata": {},
   "source": [
    "# ASR Model Training & Inference Walkthrough\n",
    "This notebook explains the workflow and demonstrates training and inference of a simple ASR model using torchaudio and PyTorch."
   ]
  },
  {
   "cell_type": "code",
   "execution_count": null,
   "id": "e72041af",
   "metadata": {},
   "outputs": [],
   "source": [
    "# Install dependencies\n",
    "!pip install torch torchaudio matplotlib"
   ]
  },
  {
   "cell_type": "code",
   "execution_count": null,
   "id": "f1e236a7",
   "metadata": {},
   "outputs": [],
   "source": [
    "# Import necessary modules\n",
    "from models.simple_asr import SimpleASRModel\n",
    "from utils.dataset import get_dataloader\n",
    "from utils.train_utils import train_model"
   ]
  },
  {
   "cell_type": "markdown",
   "id": "be69ce4c",
   "metadata": {},
   "source": [
    "## Load Dataset and Initialize Model"
   ]
  },
  {
   "cell_type": "code",
   "execution_count": null,
   "id": "46ef8c12",
   "metadata": {},
   "outputs": [],
   "source": [
    "dataloader, input_dim, vocab_size = get_dataloader()\n",
    "model = SimpleASRModel(input_dim=input_dim, vocab_size=vocab_size)"
   ]
  },
  {
   "cell_type": "markdown",
   "id": "ed0d8b4a",
   "metadata": {},
   "source": [
    "## Train the Model"
   ]
  },
  {
   "cell_type": "code",
   "execution_count": null,
   "id": "f9713c33",
   "metadata": {},
   "outputs": [],
   "source": [
    "train_model(model, dataloader, epochs=2)"
   ]
  },
  {
   "cell_type": "markdown",
   "id": "041a9f6e",
   "metadata": {},
   "source": [
    "## Run Inference on Custom Audio"
   ]
  },
  {
   "cell_type": "code",
   "execution_count": null,
   "id": "870758e5",
   "metadata": {},
   "outputs": [],
   "source": [
    "from inference.infer import transcribe_audio\n",
    "transcribe_audio(\"sample.wav\")"
   ]
  }
 ],
 "metadata": {},
 "nbformat": 4,
 "nbformat_minor": 5
}
